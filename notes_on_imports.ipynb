{
 "cells": [
  {
   "cell_type": "markdown",
   "metadata": {},
   "source": [
    "Import and test 3 of the functions from your functions exercise file. Import each function in a different way:\n",
    "\n",
    "import the module and refer to the function with the . syntax\n",
    "\n",
    "use from to import the function directly\n",
    "\n",
    "use from and give the function a different name\n",
    "\n"
   ]
  },
  {
   "cell_type": "code",
   "execution_count": 8,
   "metadata": {},
   "outputs": [],
   "source": [
    "from function_exercises import twelveto24 as time_convert"
   ]
  },
  {
   "cell_type": "code",
   "execution_count": 9,
   "metadata": {},
   "outputs": [
    {
     "data": {
      "text/plain": [
       "'04:30'"
      ]
     },
     "execution_count": 9,
     "metadata": {},
     "output_type": "execute_result"
    }
   ],
   "source": [
    "time_convert(\"4:30am\")"
   ]
  },
  {
   "cell_type": "code",
   "execution_count": 10,
   "metadata": {},
   "outputs": [],
   "source": [
    "import itertools as it"
   ]
  },
  {
   "cell_type": "code",
   "execution_count": 58,
   "metadata": {},
   "outputs": [
    {
     "data": {
      "text/plain": [
       "9"
      ]
     },
     "execution_count": 58,
     "metadata": {},
     "output_type": "execute_result"
    }
   ],
   "source": [
    "#How many different ways can you combine the letters from \"abc\" with the numbers 1, 2, and 3?\n",
    "\n",
    "len(list(it.product('abc', '123')))"
   ]
  },
  {
   "cell_type": "code",
   "execution_count": 19,
   "metadata": {},
   "outputs": [
    {
     "data": {
      "text/plain": [
       "6"
      ]
     },
     "execution_count": 19,
     "metadata": {},
     "output_type": "execute_result"
    }
   ],
   "source": [
    "#How many different combinations are there of 2 letters from \"abcd\"?\n",
    "\n",
    "len(list(it.combinations('ABCD',2)))"
   ]
  },
  {
   "cell_type": "code",
   "execution_count": 18,
   "metadata": {},
   "outputs": [
    {
     "data": {
      "text/plain": [
       "12"
      ]
     },
     "execution_count": 18,
     "metadata": {},
     "output_type": "execute_result"
    }
   ],
   "source": [
    "#How many different permutations are there of 2 letters from \"abcd\"?\n",
    "\n",
    "len(list(it.permutations('ABCD',2)))"
   ]
  },
  {
   "cell_type": "code",
   "execution_count": 30,
   "metadata": {},
   "outputs": [],
   "source": [
    "import json"
   ]
  },
  {
   "cell_type": "code",
   "execution_count": 33,
   "metadata": {},
   "outputs": [],
   "source": [
    "profiles = json.load(open('profiles.json'))\n"
   ]
  },
  {
   "cell_type": "code",
   "execution_count": 36,
   "metadata": {},
   "outputs": [
    {
     "data": {
      "text/plain": [
       "19"
      ]
     },
     "execution_count": 36,
     "metadata": {},
     "output_type": "execute_result"
    }
   ],
   "source": [
    "#Total number of users\n",
    "\n",
    "len(profiles)"
   ]
  },
  {
   "cell_type": "code",
   "execution_count": 44,
   "metadata": {},
   "outputs": [
    {
     "data": {
      "text/plain": [
       "9"
      ]
     },
     "execution_count": 44,
     "metadata": {},
     "output_type": "execute_result"
    }
   ],
   "source": [
    "#Number of active users\n",
    "\n",
    "len([profile for profile in profiles if profile['isActive'] == True])"
   ]
  },
  {
   "cell_type": "code",
   "execution_count": 39,
   "metadata": {},
   "outputs": [],
   "source": [
    "profile = profiles[0]"
   ]
  },
  {
   "cell_type": "code",
   "execution_count": 40,
   "metadata": {},
   "outputs": [
    {
     "data": {
      "text/plain": [
       "{'_id': '54e23c3e46ab53a440b580e8',\n",
       " 'index': 0,\n",
       " 'guid': '9962b468-ef3e-4993-b677-617469bc3008',\n",
       " 'isActive': False,\n",
       " 'balance': '$2,097.02',\n",
       " 'picture': 'http://placehold.it/32x32',\n",
       " 'age': 39,\n",
       " 'eyeColor': 'blue',\n",
       " 'name': 'Hebert Estes',\n",
       " 'gender': 'male',\n",
       " 'company': 'ANDRYX',\n",
       " 'email': 'hebertestes@andryx.com',\n",
       " 'phone': '+1 (866) 456-2268',\n",
       " 'address': '121 Emmons Avenue, Klondike, Kentucky, 5975',\n",
       " 'about': 'Sit cillum deserunt irure laboris tempor fugiat laboris. Amet commodo amet est incididunt. Dolore qui fugiat cillum pariatur dolore excepteur elit ipsum.\\r\\n',\n",
       " 'registered': '2014-11-10T01:44:03 +06:00',\n",
       " 'latitude': -80.157843,\n",
       " 'longitude': 161.93016,\n",
       " 'tags': ['sit', 'occaecat', 'non', 'ea', 'sit', 'laboris', 'exercitation'],\n",
       " 'friends': [{'id': 0, 'name': 'Tanisha Leonard'},\n",
       "  {'id': 1, 'name': 'Dennis Wilson'},\n",
       "  {'id': 2, 'name': 'Lupe Howe'}],\n",
       " 'greeting': 'Hello, Hebert Estes! You have 4 unread messages.',\n",
       " 'favoriteFruit': 'strawberry'}"
      ]
     },
     "execution_count": 40,
     "metadata": {},
     "output_type": "execute_result"
    }
   ],
   "source": [
    "profile"
   ]
  },
  {
   "cell_type": "code",
   "execution_count": 45,
   "metadata": {},
   "outputs": [
    {
     "data": {
      "text/plain": [
       "10"
      ]
     },
     "execution_count": 45,
     "metadata": {},
     "output_type": "execute_result"
    }
   ],
   "source": [
    "#Number of inactive users\n",
    "\n",
    "len([profile for profile in profiles if profile['isActive'] == False])"
   ]
  },
  {
   "cell_type": "code",
   "execution_count": 105,
   "metadata": {},
   "outputs": [
    {
     "data": {
      "text/plain": [
       "52667.02"
      ]
     },
     "execution_count": 105,
     "metadata": {},
     "output_type": "execute_result"
    }
   ],
   "source": [
    "#Grand total of balances for all users\n",
    "\n",
    "sum([float(profile['balance'].replace('$', '').replace(',', '')) for profile in profiles])"
   ]
  },
  {
   "cell_type": "code",
   "execution_count": 62,
   "metadata": {},
   "outputs": [],
   "source": [
    "from statistics import mean"
   ]
  },
  {
   "cell_type": "code",
   "execution_count": 63,
   "metadata": {},
   "outputs": [
    {
     "data": {
      "text/plain": [
       "2771.9484210526316"
      ]
     },
     "execution_count": 63,
     "metadata": {},
     "output_type": "execute_result"
    }
   ],
   "source": [
    "#Average balance per user\n",
    "\n",
    "mean([float(profile['balance'].replace('$', '').replace(',', '')) for profile in profiles])"
   ]
  },
  {
   "cell_type": "code",
   "execution_count": 64,
   "metadata": {},
   "outputs": [
    {
     "data": {
      "text/plain": [
       "1214.1"
      ]
     },
     "execution_count": 64,
     "metadata": {},
     "output_type": "execute_result"
    }
   ],
   "source": [
    "#User with the lowest balance\n",
    "\n",
    "min([float(profile['balance'].replace('$', '').replace(',', '')) for profile in profiles])"
   ]
  },
  {
   "cell_type": "code",
   "execution_count": 65,
   "metadata": {},
   "outputs": [
    {
     "data": {
      "text/plain": [
       "3919.64"
      ]
     },
     "execution_count": 65,
     "metadata": {},
     "output_type": "execute_result"
    }
   ],
   "source": [
    "#User with the highest balance\n",
    "\n",
    "max([float(profile['balance'].replace('$', '').replace(',', '')) for profile in profiles])"
   ]
  },
  {
   "cell_type": "code",
   "execution_count": 67,
   "metadata": {},
   "outputs": [
    {
     "data": {
      "text/plain": [
       "'strawberry'"
      ]
     },
     "execution_count": 67,
     "metadata": {},
     "output_type": "execute_result"
    }
   ],
   "source": [
    "#Most common favorite fruit\n",
    "\n",
    "max([profile['favoriteFruit'] for profile in profiles])"
   ]
  },
  {
   "cell_type": "code",
   "execution_count": 68,
   "metadata": {},
   "outputs": [
    {
     "data": {
      "text/plain": [
       "'apple'"
      ]
     },
     "execution_count": 68,
     "metadata": {},
     "output_type": "execute_result"
    }
   ],
   "source": [
    "#Least common favorite fruit\n",
    "min([profile['favoriteFruit'] for profile in profiles])"
   ]
  },
  {
   "cell_type": "code",
   "execution_count": 103,
   "metadata": {},
   "outputs": [
    {
     "data": {
      "text/plain": [
       "210"
      ]
     },
     "execution_count": 103,
     "metadata": {},
     "output_type": "execute_result"
    }
   ],
   "source": [
    "#Total number of unread messages for all users\n",
    "messages = []\n",
    "for profile in profiles:\n",
    "    greeting = profile['greeting']\n",
    "    for char in profile['greeting']:\n",
    "        if char.isdigit() == False:\n",
    "            greeting = greeting.replace(char, \"\")\n",
    "    greeting.strip()\n",
    "    messages.append(int(greeting))\n",
    "sum(messages)\n"
   ]
  },
  {
   "cell_type": "code",
   "execution_count": null,
   "metadata": {},
   "outputs": [],
   "source": []
  }
 ],
 "metadata": {
  "kernelspec": {
   "display_name": "Python 3",
   "language": "python",
   "name": "python3"
  },
  "language_info": {
   "codemirror_mode": {
    "name": "ipython",
    "version": 3
   },
   "file_extension": ".py",
   "mimetype": "text/x-python",
   "name": "python",
   "nbconvert_exporter": "python",
   "pygments_lexer": "ipython3",
   "version": "3.8.5"
  }
 },
 "nbformat": 4,
 "nbformat_minor": 4
}
