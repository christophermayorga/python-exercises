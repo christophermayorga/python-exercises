{
 "cells": [
  {
   "cell_type": "markdown",
   "metadata": {},
   "source": [
    "##Conditional Basics"
   ]
  },
  {
   "cell_type": "code",
   "execution_count": null,
   "metadata": {},
   "outputs": [],
   "source": [
    "#prompt the user for a day of the week, print out whether the day is Monday or not\n",
    "\n",
    "day_of_week = ''\n",
    "day_of_week = input('Give me a day ')\n",
    "if day_of_week.lower() == 'monday':\n",
    "    print('That\\'s Monday')\n",
    "else:\n",
    "    print('That\\'s not Monday')"
   ]
  },
  {
   "cell_type": "code",
   "execution_count": null,
   "metadata": {},
   "outputs": [],
   "source": [
    "#prompt the user for a day of the week, print out whether the day is a weekday or a weekend\n",
    "day_of_week = ''\n",
    "day_of_week = input('Give me a day ')\n",
    "if day_of_week.lower().startswith('s'):\n",
    "    print('That\\'s the weekend')\n",
    "else:\n",
    "    print('That\\'s a weekday')"
   ]
  },
  {
   "cell_type": "code",
   "execution_count": 5,
   "metadata": {},
   "outputs": [
    {
     "name": "stdout",
     "output_type": "stream",
     "text": [
      "950.0\n"
     ]
    }
   ],
   "source": [
    "#create variables and make up values for\n",
    "\n",
    "#the number of hours worked in one week\n",
    "#the hourly rate\n",
    "#how much the week's paycheck will be\n",
    "#write the python code that calculates the weekly paycheck. \n",
    "#You get paid time and a half if you work more than 40 hours\n",
    "hours_worked = 45\n",
    "hourly_rate = 20\n",
    "paycheck = 0\n",
    "if hours_worked <= 40:\n",
    "    paycheck = hours_worked * hourly_rate\n",
    "    print(paycheck)\n",
    "if hours_worked > 40:\n",
    "    paycheck = (40 * hourly_rate) + ((hours_worked - 40) * (hourly_rate * 1.5))\n",
    "    print(paycheck)\n",
    "else:\n",
    "    pass"
   ]
  },
  {
   "cell_type": "markdown",
   "metadata": {},
   "source": [
    "##Loop Basics"
   ]
  },
  {
   "cell_type": "code",
   "execution_count": null,
   "metadata": {},
   "outputs": [],
   "source": [
    "#While\n",
    "\n",
    "#Create an integer variable i with a value of 5.\n",
    "#Create a while loop that runs so long as i is less than or equal to 15\n",
    "#Each loop iteration, output the current value of i, then increment i by one.\n",
    "i = 5\n",
    "while i <= 15:\n",
    "    print(i)\n",
    "    i += 1"
   ]
  },
  {
   "cell_type": "code",
   "execution_count": null,
   "metadata": {},
   "outputs": [],
   "source": [
    "#Create a while loop that will count by 2's starting with 0 and ending at 100. Follow each number with a new line.\n",
    "i = 0\n",
    "while i <= 100:\n",
    "    print(i)\n",
    "    i += 2"
   ]
  },
  {
   "cell_type": "code",
   "execution_count": null,
   "metadata": {},
   "outputs": [],
   "source": [
    "#Alter your loop to count backwards by 5's from 100 to -10.\n",
    "i = 100\n",
    "while i >= -10:\n",
    "    print(i)\n",
    "    i -= 5"
   ]
  },
  {
   "cell_type": "code",
   "execution_count": null,
   "metadata": {},
   "outputs": [],
   "source": [
    "#Create a while loop that starts at 2, and displays the number squared on each line while the number is \n",
    "#less than 1,000,000. Output should equal:\n",
    "\n",
    "i = 2\n",
    "while i < 1000000:\n",
    "    print(i)\n",
    "    i **= 2"
   ]
  },
  {
   "cell_type": "code",
   "execution_count": null,
   "metadata": {},
   "outputs": [],
   "source": [
    "#Write a loop that uses print to create the output shown below.\n",
    "i = 100\n",
    "while i > 0:\n",
    "    print(i)\n",
    "    i -= 5\n"
   ]
  },
  {
   "cell_type": "markdown",
   "metadata": {},
   "source": [
    "For Loops"
   ]
  },
  {
   "cell_type": "code",
   "execution_count": null,
   "metadata": {},
   "outputs": [],
   "source": [
    "#Write some code that prompts the user for a number, then shows a multiplication table up through 10 for that number.\n",
    "\n",
    "i = input('Enter a number: ')\n",
    "i = int(i)\n",
    "x = range(1,11)\n",
    "for n in x:\n",
    "    prod = n * i\n",
    "    print(f'{i} X {n} = {prod}')"
   ]
  },
  {
   "cell_type": "code",
   "execution_count": null,
   "metadata": {},
   "outputs": [],
   "source": [
    "#Create a for loop that uses print to create the output shown below.\n",
    "\n",
    "x = range(1,10)\n",
    "for n in x:\n",
    "    print(str(n) * n)"
   ]
  },
  {
   "cell_type": "code",
   "execution_count": null,
   "metadata": {},
   "outputs": [],
   "source": [
    "#Prompt the user for an odd number between 1 and 50. Use a loop and a break statement to continue prompting the \n",
    "#user if they enter invalid input. (Hint: use the isdigit method on strings to determine this). Use a loop and \n",
    "#the continue statement to output all the odd numbers between 1 and 50, except for the number the user entered.\n",
    "\n",
    "num = input('Enter an odd number between 1 and 50: ')\n",
    "odds = range(1,50,2)\n",
    "while True:\n",
    "    if num.isdigit == True:\n",
    "        continue\n",
    "    if num.isdigit == False:\n",
    "        break\n",
    "    if int(num) % 2 == 0:\n",
    "        break\n",
    "    print(\"Number to skip is: \", num)\n",
    "    break\n",
    "for n in odds:\n",
    "    if n != int(num):\n",
    "        print(\"Here is an odd number:\", n)\n",
    "    if n == int(num):\n",
    "        print(\"Yikes! Skipping number:\", n)"
   ]
  },
  {
   "cell_type": "code",
   "execution_count": null,
   "metadata": {},
   "outputs": [],
   "source": [
    "#The input function can be used to prompt for input and use that input in your python code. Prompt the user to \n",
    "#enter a positive number and write a loop that counts from 0 to that number. (Hints: first make sure that the value \n",
    "#the user entered is a valid number, also note that the input function returns a string, so you'll need to convert \n",
    "#this to a numeric type.)\n",
    "\n",
    "\n",
    "while True:\n",
    "    num = input(\"Enter a positive number: \")\n",
    "    if num.isdigit():\n",
    "        if int(num) > 0:\n",
    "            break\n",
    "num = int(num)  \n",
    "count = range(0, num + 1)\n",
    "for n in count:\n",
    "    print(n)"
   ]
  },
  {
   "cell_type": "code",
   "execution_count": null,
   "metadata": {},
   "outputs": [],
   "source": [
    "#Write a program that prompts the user for a positive integer. Next write a loop that prints out the numbers \n",
    "#from the number the user entered down to 1.\n",
    "\n",
    "while True:\n",
    "    num = input(\"Enter a positive integer: \")\n",
    "    if num.isdigit():\n",
    "        if int(num) > 0:\n",
    "            break\n",
    "num = int(num)\n",
    "while num > 0:\n",
    "    print(num)\n",
    "    num -= 1"
   ]
  },
  {
   "cell_type": "markdown",
   "metadata": {},
   "source": [
    "Fizzbuzz\n",
    "One of the most common interview questions for entry-level programmers is the FizzBuzz test. Developed by Imran Ghory, the test is designed to test basic looping and conditional logic skills.\n",
    "\n",
    "--Write a program that prints the numbers from 1 to 100.\n",
    "--For multiples of three print \"Fizz\" instead of the number\n",
    "--For the multiples of five print \"Buzz\".\n",
    "--For numbers which are multiples of both three and five print \"FizzBuzz\"."
   ]
  },
  {
   "cell_type": "code",
   "execution_count": null,
   "metadata": {},
   "outputs": [],
   "source": [
    "num = range(1,101)\n",
    "for n in num:\n",
    "    if n % 3 == 0:\n",
    "        print(\"Fizz\")\n",
    "        continue\n",
    "    if n % 5 == 0:\n",
    "        print(\"Buzz\")\n",
    "        continue\n",
    "    if n % 3 == 0 and n % 5 == 0:\n",
    "        print(\"FizzBuzz\")\n",
    "        continue\n",
    "    else:\n",
    "        print(n)"
   ]
  },
  {
   "cell_type": "markdown",
   "metadata": {},
   "source": [
    "Display a table of powers.\n",
    "\n",
    "Prompt the user to enter an integer.\n",
    "Display a table of squares and cubes from 1 to the value entered.\n",
    "Ask if the user wants to continue.\n",
    "Assume that the user will enter valid data.\n",
    "Only continue if the user agrees to.\n",
    "Example Output"
   ]
  },
  {
   "cell_type": "code",
   "execution_count": null,
   "metadata": {},
   "outputs": [],
   "source": [
    "while True:\n",
    "    user_num = input(\"What number would you like to go up to?: \")\n",
    "    user_num = int(user_num)\n",
    "    upto = range(1, user_num+1)\n",
    "    print(\"Here is your table!\")\n",
    "    print(\"number | squared | cubed\")\n",
    "    print(\"------ | ------- | -----\")\n",
    "    for n in upto:\n",
    "        print(f\"{n*1}      |{n**2}        |{n**3}     \")\n",
    "    continue_or_not = input(\"Would you like to continue?\")\n",
    "    if continue_or_not.startswith(\"y\"):\n",
    "        continue\n",
    "    else:\n",
    "        break"
   ]
  },
  {
   "cell_type": "markdown",
   "metadata": {},
   "source": [
    "Convert given number grades into letter grades.\n",
    "\n",
    "Prompt the user for a numerical grade from 0 to 100.\n",
    "Display the corresponding letter grade.\n",
    "Prompt the user to continue.\n",
    "Assume that the user will enter valid integers for the grades.\n",
    "The application should only continue if the user agrees to.\n",
    "Grade Ranges:\n",
    "\n",
    "A : 100 - 88\n",
    "B : 87 - 80\n",
    "C : 79 - 67\n",
    "D : 66 - 60\n",
    "F : 59 - 0\n"
   ]
  },
  {
   "cell_type": "code",
   "execution_count": null,
   "metadata": {},
   "outputs": [],
   "source": [
    "while True:\n",
    "    user_grade = input(\"Enter a numerical grade from 0 to 100: \")\n",
    "    user_grade = int(user_grade)\n",
    "    if user_grade <= 59:\n",
    "        print(\"Your grade is F\")\n",
    "    if user_grade <= 66 and user_grade>59:\n",
    "        print(\"Your grade is D\")\n",
    "    if user_grade <= 79 and user_grade>66:\n",
    "        print(\"Your grade is C\")\n",
    "    if user_grade <= 87 and user_grade>79:\n",
    "        print(\"Your grade is B\")\n",
    "    if user_grade >= 88:\n",
    "        print(\"Your grade is A\")\n",
    "    continue_or_not = input(\"Would you like to continue?\")\n",
    "    if continue_or_not.lower().startswith(\"y\"):\n",
    "        continue\n",
    "    else:\n",
    "        break"
   ]
  },
  {
   "cell_type": "markdown",
   "metadata": {},
   "source": [
    "Create a list of dictionaries where each dictionary represents a book that you have read. Each dictionary in the list should have the keys title, author, and genre. Loop through the list and print out information about each book.\n",
    "\n",
    "Prompt the user to enter a genre, then loop through your books list and print out the titles of all the books in that genre."
   ]
  },
  {
   "cell_type": "code",
   "execution_count": 2,
   "metadata": {},
   "outputs": [
    {
     "name": "stdout",
     "output_type": "stream",
     "text": [
      "Title: The Lightning Thief, Author: Rick Riordan, Genre: fantasy adventure\n",
      "Title: Parable of the Sower, Author: Octavia Butler, Genre: science fiction\n",
      "Title: The Hunger Games, Author: Suzanne Collins, Genre: young adult dystopian\n",
      "Title: Divergent, Author: Veronica Roth, Genre: young adult dystopian\n"
     ]
    }
   ],
   "source": [
    "books = [\n",
    "    {'title': 'The Lightning Thief',\n",
    "    'author': 'Rick Riordan',\n",
    "    'genre': 'fantasy adventure'},\n",
    "    {'title': 'Parable of the Sower',\n",
    "    'author': 'Octavia Butler',\n",
    "    'genre': 'science fiction'},\n",
    "    {'title': 'The Hunger Games',\n",
    "    'author': 'Suzanne Collins',\n",
    "    'genre': 'young adult dystopian'},\n",
    "    {'title': 'Divergent',\n",
    "    'author': 'Veronica Roth',\n",
    "    'genre': 'young adult dystopian'}\n",
    "]\n",
    "\n",
    "for book in books:\n",
    "    print(f\"Title: {book['title']}, Author: {book['author']}, Genre: {book['genre']}\")"
   ]
  },
  {
   "cell_type": "code",
   "execution_count": 4,
   "metadata": {},
   "outputs": [
    {
     "name": "stdout",
     "output_type": "stream",
     "text": [
      "Enter a genre: non-fiction\n",
      "Would you like to continue?yes\n",
      "Enter a genre: fantasy adventure\n",
      "The Lightning Thief\n",
      "Would you like to continue?no\n"
     ]
    }
   ],
   "source": [
    "while True:\n",
    "    user_genre = input(\"Enter a genre: \")\n",
    "    for book in books:\n",
    "        if user_genre.lower() == book['genre']:\n",
    "            print(book['title'])\n",
    "    continue_or_not = input(\"Would you like to continue?\")\n",
    "    if continue_or_not.lower().startswith(\"y\"):\n",
    "        continue\n",
    "    else:\n",
    "        break"
   ]
  },
  {
   "cell_type": "code",
   "execution_count": null,
   "metadata": {},
   "outputs": [],
   "source": []
  }
 ],
 "metadata": {
  "kernelspec": {
   "display_name": "Python 3",
   "language": "python",
   "name": "python3"
  },
  "language_info": {
   "codemirror_mode": {
    "name": "ipython",
    "version": 3
   },
   "file_extension": ".py",
   "mimetype": "text/x-python",
   "name": "python",
   "nbconvert_exporter": "python",
   "pygments_lexer": "ipython3",
   "version": "3.8.5"
  }
 },
 "nbformat": 4,
 "nbformat_minor": 4
}
