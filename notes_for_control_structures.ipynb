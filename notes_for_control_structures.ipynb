{
 "cells": [
  {
   "cell_type": "markdown",
   "metadata": {},
   "source": [
    "##Conditional Basics"
   ]
  },
  {
   "cell_type": "code",
   "execution_count": 9,
   "metadata": {},
   "outputs": [
    {
     "name": "stdout",
     "output_type": "stream",
     "text": [
      "Give me a day tuesday\n",
      "That's not Monday\n"
     ]
    }
   ],
   "source": [
    "#prompt the user for a day of the week, print out whether the day is Monday or not\n",
    "\n",
    "day_of_week = ''\n",
    "day_of_week = input('Give me a day ')\n",
    "if day_of_week == ('Monday' or 'monday'):\n",
    "    print('That\\'s Monday')\n",
    "else:\n",
    "    print('That\\'s not Monday')"
   ]
  },
  {
   "cell_type": "code",
   "execution_count": 11,
   "metadata": {},
   "outputs": [
    {
     "name": "stdout",
     "output_type": "stream",
     "text": [
      "Give me a day monday\n",
      "That's a weekday\n"
     ]
    }
   ],
   "source": [
    "#prompt the user for a day of the week, print out whether the day is a weekday or a weekend\n",
    "day_of_week = ''\n",
    "day_of_week = input('Give me a day ')\n",
    "if day_of_week in ('monday', 'Monday', 'tuesday', 'Tuesday', 'wednesday', 'Wednesday', 'thursday', 'Thursday', 'friday', 'Friday'):\n",
    "    print('That\\'s a weekday')\n",
    "else:\n",
    "    print('That\\'s the weekend')"
   ]
  },
  {
   "cell_type": "code",
   "execution_count": 14,
   "metadata": {},
   "outputs": [
    {
     "name": "stdout",
     "output_type": "stream",
     "text": [
      "1350.0\n"
     ]
    }
   ],
   "source": [
    "#create variables and make up values for\n",
    "\n",
    "#the number of hours worked in one week\n",
    "#the hourly rate\n",
    "#how much the week's paycheck will be\n",
    "#write the python code that calculates the weekly paycheck. \n",
    "#You get paid time and a half if you work more than 40 hours\n",
    "hours_worked = 45\n",
    "hourly_rate = 20\n",
    "paycheck = 0\n",
    "if hours_worked > 40:\n",
    "    paycheck = hours_worked * (hourly_rate * 1.5)\n",
    "    print(paycheck)\n",
    "else:\n",
    "    paycheck = hours_worked * hourly_rate"
   ]
  },
  {
   "cell_type": "markdown",
   "metadata": {},
   "source": [
    "##Loop Basics"
   ]
  },
  {
   "cell_type": "code",
   "execution_count": null,
   "metadata": {},
   "outputs": [],
   "source": [
    "#While\n",
    "\n",
    "#Create an integer variable i with a value of 5.\n",
    "#Create a while loop that runs so long as i is less than or equal to 15\n",
    "#Each loop iteration, output the current value of i, then increment i by one.\n",
    "i = 5\n",
    "while i <= 10:\n",
    "    print(i)\n",
    "    i += 1"
   ]
  }
 ],
 "metadata": {
  "kernelspec": {
   "display_name": "Python 3",
   "language": "python",
   "name": "python3"
  },
  "language_info": {
   "codemirror_mode": {
    "name": "ipython",
    "version": 3
   },
   "file_extension": ".py",
   "mimetype": "text/x-python",
   "name": "python",
   "nbconvert_exporter": "python",
   "pygments_lexer": "ipython3",
   "version": "3.8.5"
  }
 },
 "nbformat": 4,
 "nbformat_minor": 4
}
